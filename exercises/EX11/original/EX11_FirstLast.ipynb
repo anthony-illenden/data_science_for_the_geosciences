{
 "cells": [
  {
   "cell_type": "markdown",
   "id": "e277c0c2-9b49-4d3a-a62d-60d7683af2b3",
   "metadata": {},
   "source": [
    "# Exercise 11 - Loop practice\n",
    "\n",
    "Please rename the notebook using your first and last name.\n",
    "\n",
    "# ```while``` loops (problems 1 - 5)\n",
    "\n",
    "For ```while``` loops in problems 1 - 5, your answer must use mathematical operations. You *cannot* create a list of the same values and then index those list values. Do not use the ```range``` function or any other ```iterators``` or ```iterables```.\n",
    "\n",
    "For example, if given the following problem:\n",
    "\n",
    "Create a while loop that prints the following:\n",
    "\n",
    "```\n",
    "100\n",
    "200\n",
    "300\n",
    "400\n",
    "500\n",
    "```\n",
    "\n",
    "Your answer should be:"
   ]
  },
  {
   "cell_type": "code",
   "execution_count": 1,
   "id": "783f8cd5-f8cf-4502-a650-5d9d80d98ae9",
   "metadata": {},
   "outputs": [
    {
     "name": "stdout",
     "output_type": "stream",
     "text": [
      "100\n",
      "200\n",
      "300\n",
      "400\n",
      "500\n"
     ]
    }
   ],
   "source": [
    "i = 100\n",
    "\n",
    "while i <= 500:\n",
    "    print(i)\n",
    "    \n",
    "    i += 100 # or i = i + 100"
   ]
  },
  {
   "cell_type": "markdown",
   "id": "e8108264-9706-4440-ad2b-9b16674b31b7",
   "metadata": {},
   "source": [
    "if instead, your answer is this, you will receive no credit:"
   ]
  },
  {
   "cell_type": "code",
   "execution_count": 2,
   "id": "daa9f7a0-362f-4ab0-be50-0b9efe550bc1",
   "metadata": {},
   "outputs": [
    {
     "name": "stdout",
     "output_type": "stream",
     "text": [
      "100\n",
      "200\n",
      "300\n",
      "400\n",
      "500\n"
     ]
    }
   ],
   "source": [
    "num_list = [100, 200, 300, 400, 500]\n",
    "\n",
    "i = 0\n",
    "\n",
    "while i < len(num_list):\n",
    "    print(num_list[i])\n",
    "    \n",
    "    i += 1"
   ]
  },
  {
   "cell_type": "markdown",
   "id": "2bfec47e-6bf9-4178-b663-dc127f1acd9a",
   "metadata": {},
   "source": [
    "### Problem 1 - Create a ```while``` loop that prints the following (1 point):\n",
    "\n",
    "```\n",
    "1\n",
    "2\n",
    "3\n",
    "4\n",
    "5\n",
    "```"
   ]
  },
  {
   "cell_type": "code",
   "execution_count": null,
   "id": "12309975-ee30-44bb-9104-fff74663fa8a",
   "metadata": {},
   "outputs": [],
   "source": []
  },
  {
   "cell_type": "markdown",
   "id": "65afb005-2289-4580-a716-3741139c18c6",
   "metadata": {},
   "source": [
    "### Problem 2 - Create a ```while``` loop that prints the following (1 point):\n",
    "\n",
    "```\n",
    "5\n",
    "4\n",
    "3\n",
    "2\n",
    "1\n",
    "```"
   ]
  },
  {
   "cell_type": "code",
   "execution_count": null,
   "id": "f7d2352f-fa78-4f54-aaf2-21fbc6f26231",
   "metadata": {},
   "outputs": [],
   "source": []
  },
  {
   "cell_type": "markdown",
   "id": "84610dc1-1478-47a4-83a4-07cd1b9df2de",
   "metadata": {},
   "source": [
    "### Problem 3 - Create a ```while``` loop that prints the following (1 point):\n",
    "\n",
    "```\n",
    "1\n",
    "3\n",
    "5\n",
    "7\n",
    "9\n",
    "```"
   ]
  },
  {
   "cell_type": "code",
   "execution_count": null,
   "id": "a322851e-cae3-48d9-95fa-2108e4e24405",
   "metadata": {},
   "outputs": [],
   "source": []
  },
  {
   "cell_type": "markdown",
   "id": "071d3886-7126-45d2-844b-2628c17b88c5",
   "metadata": {},
   "source": [
    "### Problem 4 - Create a ```while``` loop that prints the following (1 point):\n",
    "\n",
    "```\n",
    "2\n",
    "4\n",
    "8\n",
    "16\n",
    "32\n",
    "64\n",
    "```"
   ]
  },
  {
   "cell_type": "code",
   "execution_count": null,
   "id": "58e4d60c-030b-41ad-985f-fb0f274a9037",
   "metadata": {},
   "outputs": [],
   "source": []
  },
  {
   "cell_type": "markdown",
   "id": "b99ff91f-f1f4-4edf-bedf-cbc2a8f6e7e2",
   "metadata": {},
   "source": [
    "### Problem 5 - Create a ```while``` loop that prints the following (1 point):\n",
    "\n",
    "```\n",
    "2\n",
    "4\n",
    "16\n",
    "256\n",
    "65536\n",
    "4294967296\n",
    "```"
   ]
  },
  {
   "cell_type": "markdown",
   "id": "a3239069-27e4-457f-81d8-221458622dd9",
   "metadata": {},
   "source": [
    "# ```for``` loops (problems 5 - 10)\n",
    "\n",
    "For the ```for``` loop problems, you must create a composite datatype and set it equal to a variable. Next, you must iterate through the composite data type variable you created. Alternatively, you can use ```range``` or other ```iterables``` when appropriate.\n",
    "\n",
    "For example, if given the following problem:\n",
    "\n",
    "Create a ```for``` loop that prints the following:\n",
    "\n",
    "```\n",
    "1\n",
    "2\n",
    "3\n",
    "4\n",
    "5\n",
    "```\n",
    "\n",
    "Your answer should be:"
   ]
  },
  {
   "cell_type": "code",
   "execution_count": 3,
   "id": "162f95d1-42ac-4692-aeaa-8d9b79ba702a",
   "metadata": {},
   "outputs": [
    {
     "name": "stdout",
     "output_type": "stream",
     "text": [
      "1\n",
      "2\n",
      "3\n",
      "4\n",
      "5\n"
     ]
    }
   ],
   "source": [
    "# create a list to iterate through\n",
    "# that would match the output\n",
    "a = [1, 2, 3, 4, 5]\n",
    "\n",
    "# iterate through the list\n",
    "# print the value at each iteration\n",
    "for i in a:\n",
    "    print(i)"
   ]
  },
  {
   "cell_type": "markdown",
   "id": "2377fd06-b9c4-4334-a8da-3811e2bd3ecf",
   "metadata": {},
   "source": [
    "you can also use range:"
   ]
  },
  {
   "cell_type": "code",
   "execution_count": 4,
   "id": "a8728192-0342-4483-84b2-3df453a5b3ea",
   "metadata": {},
   "outputs": [
    {
     "name": "stdout",
     "output_type": "stream",
     "text": [
      "1\n",
      "2\n",
      "3\n",
      "4\n",
      "5\n"
     ]
    }
   ],
   "source": [
    "# iterate through the list\n",
    "# print the value at each iteration\n",
    "for i in range(1, 6):\n",
    "    print(i)"
   ]
  },
  {
   "cell_type": "markdown",
   "id": "57746e23-6f48-4edd-8021-3dbbad8c953d",
   "metadata": {},
   "source": [
    "### Problem 6 - create a ```for``` loop that prints out the following (1 point):\n",
    "\n",
    "```\n",
    "5\n",
    "4\n",
    "3\n",
    "2\n",
    "1\n",
    "```"
   ]
  },
  {
   "cell_type": "code",
   "execution_count": null,
   "id": "0caa4f3e-a672-4b82-af6f-9131552f96b1",
   "metadata": {},
   "outputs": [],
   "source": []
  },
  {
   "cell_type": "markdown",
   "id": "2573eed9-92ff-4bbc-a64e-ec2900377a98",
   "metadata": {},
   "source": [
    "### Problem 7 - create a ```for``` loop that prints out the following (1 point):\n",
    "\n",
    "```\n",
    "1\n",
    "3\n",
    "5\n",
    "7\n",
    "9\n",
    "```"
   ]
  },
  {
   "cell_type": "code",
   "execution_count": null,
   "id": "618dfad1-3b0f-444f-8ca6-f9e816507877",
   "metadata": {},
   "outputs": [],
   "source": []
  },
  {
   "cell_type": "markdown",
   "id": "ea880f38-bd2e-47e0-a706-e71091e7d2eb",
   "metadata": {},
   "source": [
    "### Problem 8 - create a ```for``` loop that calculates the sum and mean of the following list (1 point):\n",
    "\n",
    "```\n",
    "a = [1, 2, 3, 4, 5]\n",
    "```\n",
    "\n",
    "you must manually calculate this sum, so do not use the built-in ```sum``` function or any other ```sum``` method in a software package. The sum is ```15```. Once complete, calculate the mean, which is ```3.0```. You must also manually calculate the mean."
   ]
  },
  {
   "cell_type": "code",
   "execution_count": null,
   "id": "06bdf72a-e86f-4fc9-9b6f-5842b4488646",
   "metadata": {},
   "outputs": [],
   "source": []
  },
  {
   "cell_type": "markdown",
   "id": "79cffeda-effc-4509-94b9-60d53f645949",
   "metadata": {},
   "source": [
    "### Problem 9 - create a ```for``` loop that prints out the following using a ```dict``` (1 point):\n",
    "\n",
    "```\n",
    "a 5\n",
    "b 3\n",
    "c 10\n",
    "d 18\n",
    "e 1\n",
    "```\n",
    "\n",
    "you must use the ```items``` iterator and you must use the key and value variables provided by ```items``` during each iteration. You cannot use the ```dict``` variable within the loop."
   ]
  },
  {
   "cell_type": "code",
   "execution_count": null,
   "id": "0c3b0866-c78d-4879-a330-1660e9cc7532",
   "metadata": {},
   "outputs": [],
   "source": []
  },
  {
   "cell_type": "markdown",
   "id": "4217bad8-4bfc-4bb5-938a-4e73ec8a3ff8",
   "metadata": {},
   "source": [
    "### Problem 10 - create a ```for``` loop that prints out the following using a ```dict``` (1 point):\n",
    "\n",
    "```\n",
    "a [1, 3]\n",
    "b [2.0, 4.0]\n",
    "c [\"a\", \"b\"]\n",
    "d [True, False]\n",
    "e []\n",
    "```\n",
    "\n",
    "you must use the ```items``` iterator and you must use the key and value variables provided by ```items``` during each iteration. You cannot use the ```dict``` variable within the loop."
   ]
  },
  {
   "cell_type": "code",
   "execution_count": null,
   "id": "d112b1fc-339a-4aef-9d4b-3ed1766870c3",
   "metadata": {},
   "outputs": [],
   "source": []
  }
 ],
 "metadata": {
  "kernelspec": {
   "display_name": "Python [conda env:pyEAE]",
   "language": "python",
   "name": "conda-env-pyEAE-py"
  },
  "language_info": {
   "codemirror_mode": {
    "name": "ipython",
    "version": 3
   },
   "file_extension": ".py",
   "mimetype": "text/x-python",
   "name": "python",
   "nbconvert_exporter": "python",
   "pygments_lexer": "ipython3",
   "version": "3.9.13"
  }
 },
 "nbformat": 4,
 "nbformat_minor": 5
}
