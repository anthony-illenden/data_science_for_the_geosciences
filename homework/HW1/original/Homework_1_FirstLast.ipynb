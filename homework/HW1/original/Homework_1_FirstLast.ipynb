{
 "cells": [
  {
   "cell_type": "markdown",
   "id": "7e6d2809-abbd-4d87-aa01-63df2a9ce10d",
   "metadata": {},
   "source": [
    "# Homework 1\n",
    "\n",
    "# Humidity Calculations\n",
    "\n",
    "### Due: TBD\n",
    "\n",
    "### Directions: \n",
    "\n",
    "1. Change the name of your notebook to Homework1_FirstLast.ipynb, where First is your first name and Last is your last name.\n",
    "\n",
    "2. For each of the following prompts, write or modify Python code that fulfills the requirements. \n",
    "\n",
    "#### Important information to remember:\n",
    "\n",
    "1. Periodically, you should click File -> Save Notebook\n",
    "2. When you are done working for the day, click File -> Log Out\n",
    "3. When you are finished, download the notebook and upload it to the submission link\n",
    "\n",
    "# Extra requirements:\n",
    "\n",
    "Tasks:\n",
    "1. Set your constants (3 points)\n",
    "\n",
    "$\\quad e_0 = 0.611 \\, kPa$\n",
    "\n",
    "$\\quad \\frac{L}{R_v} = 5423 \\, K$\n",
    "\n",
    "$\\quad T_0 = 273 \\, K$\n",
    "\n",
    "2. Set your temperature and dewpoint in Fahrenheit (F) (2 points)\n",
    "\n",
    "3. Convert your temperature and dewpoint in F to Kelvin (K) (5 points)\n",
    "\n",
    "$K = (F + 459.67) \\times \\frac{5}{9}$\n",
    "\n",
    "5. Calculate relative humidity based on the following equation using the constants, temperature, and dewpoint (5 points)\n",
    "\n",
    "$e_s = e_0 \\cdot e^{\\frac{L}{R_v} \\left( \\frac{1}{T_0} - \\frac{1}{T \\, \\text{or} \\, T_d} \\right)}$\n",
    "\n",
    "6. Format your printed answers as follows (5 points)\n",
    "\n",
    "```\n",
    "T = 33 Td = 20 and your answer is 58.45 %\n",
    "T = 40 Td = 40 and your answer is 100.00 %\n",
    "T = 10 Td = 0 and your answer is 63.63 %\n",
    "T = 20 Td = 25 and your answer is 123.36 % (Check your input! Relative Humidity is Higher than 100%!)\n",
    "All spaces and formatting are required. If the relative humidity is higher than 100%, you need to add this message: \"(Check your input! Relative Humidity is Higher than 100%!)\" to the end of your string.\n",
    "```\n",
    "\n",
    "### Background Information: Relative humidity\n",
    "\n",
    "1. The measured partial pressure of water vapor in the atmosphere (vapor pressure)\n",
    "2. The \"maxmimum\" partial pressure of water vapor (saturation vapor pressure).\n",
    "\n",
    "Saturation vapor pressure is sometimes simplified as the \"capacity\" of the air to hold water vapor, and it is directly related to temperature.\n",
    "\n",
    "The vapor pressure is the actual amount of water vapor in the air, and it is directly related to the dew point.\n",
    "\n",
    "Relative humidity is ratio of actual to maximum water vapor in the air, and is communicated as \"percent of capacity\". In reality, it is more complex than that, but it will be fine to think of it that way for our purposes.\n",
    "\n",
    "You can compare it to your grade in the course:\n",
    "\n",
    "Total possible points = saturation vapor pressure\n",
    "\n",
    "points earned = vapor pressure\n",
    "\n",
    "Grade in the course = 100 x (points earned / total possible points)\n",
    "\n",
    "Relative humidity = 100 x (vapor pressure / saturation vapor pressure)\n",
    "\n",
    "### Exponents with math.exp()\n",
    "\n",
    "where e ^ (said out loud \"e to the\") is a Python function called math.exp(). You have to put everything in the parentheses in (2) within the parentheses in math.exp().\n",
    "\n",
    "Here is an example:\n",
    "\n",
    "math.exp(x + y)  #equivalent to e ^ (x + y) \"e to the x plus y\""
   ]
  },
  {
   "cell_type": "markdown",
   "id": "9a98ddbd-72f7-4ec7-a6cf-21ec23976ffa",
   "metadata": {},
   "source": [
    "# Task 1 (2 points)\n",
    "\n",
    "Set your constants\n",
    "\n",
    "$\\quad e_0 = 0.611 \\, kPa$\n",
    "\n",
    "$\\quad \\frac{L}{R_v} = 5423 \\, K$\n",
    "\n",
    "$\\quad T_0 = 273 \\, K$"
   ]
  },
  {
   "cell_type": "code",
   "execution_count": null,
   "id": "7b3832d9-f2dc-49d3-a9fc-ae289c18984f",
   "metadata": {},
   "outputs": [],
   "source": []
  },
  {
   "cell_type": "markdown",
   "id": "3ab6ea8e-407e-478c-9e4b-00ceab67db9a",
   "metadata": {},
   "source": [
    "# Task 2 (3 points)\n",
    "\n",
    "Set your temperature (${T}$) and dewpoint (${T_d}$)\n",
    "\n",
    "The first example is temperature of 33 and dewpoint of 20. Use this to initially test your program. Then, use the other examples to make sure they work as expected. I will also use other examples not shown to make sure it works in all cases."
   ]
  },
  {
   "cell_type": "code",
   "execution_count": null,
   "id": "5dbd64e5-89ba-470a-9182-29e7f2b0562e",
   "metadata": {},
   "outputs": [],
   "source": []
  },
  {
   "cell_type": "markdown",
   "id": "e6166d09-2c2d-43cc-9191-9a6f48f9b09f",
   "metadata": {},
   "source": [
    "# Task 3 (5 points)\n",
    "\n",
    "Convert your temperature and dewpoint in F to Kelvin (K) (5 points)\n",
    "\n",
    "$K = (F + 459.67) \\times \\frac{5}{9}$"
   ]
  },
  {
   "cell_type": "code",
   "execution_count": null,
   "id": "508e6687-d79f-49c9-bb0f-678f58fea97d",
   "metadata": {},
   "outputs": [],
   "source": []
  },
  {
   "cell_type": "markdown",
   "id": "a9ef8f3f-acd7-420d-8462-5da072a2d2a9",
   "metadata": {},
   "source": [
    "# Task 4 (5 points)\n",
    "\n",
    "Place the defined variables above into a Python equation that is equivalent to the following equation\n",
    "\n",
    "$e = e_0 \\cdot e^{\\frac{L}{R_v} \\left( \\frac{1}{T_0} - \\frac{1}{T_d} \\right)}$\n",
    "\n",
    "$e_s = e_0 \\cdot e^{\\frac{L}{R_v} \\left( \\frac{1}{T_0} - \\frac{1}{T} \\right)}$\n",
    "\n",
    "$RH = ?$ # read the description above to decide how to use e and e_s to calculate relative humidity"
   ]
  },
  {
   "cell_type": "code",
   "execution_count": null,
   "id": "6106a812-d56f-4a21-b405-0a0f29e8cd43",
   "metadata": {},
   "outputs": [],
   "source": []
  },
  {
   "cell_type": "markdown",
   "id": "02776dbc-1e23-41f2-bb4a-63cd71445d65",
   "metadata": {},
   "source": [
    "# Task 5 (5 points)\n",
    "\n",
    "The basic format for the output is as follows:\n",
    "\n",
    "```\n",
    "T = 33 Td = 20 and your answer is 58.45 %\n",
    "T = 40 Td = 40 and your answer is 100.00 %\n",
    "T = 10 Td = 0 and your answer is 63.63 %\n",
    "T = 20 Td = 25 and your answer is 123.36 % (Check your input! Relative Humidity is Higher than 100%!)\n",
    "\n",
    "```\n",
    "\n",
    "The following rules will determine how you will print your results. You must use an if/elif/else statement: \n",
    "\n",
    "1. The most common example is a Temperature is higher than the Dewpoint. For this case, no extra message is needed.\n",
    "2. If the Dewpoint is higher than the Temperature, print the basic message, but then add this to the end of the message: (Check your input! Relative Humidity is Higher than 100%!)\n",
    "3. You must exactly match the output above for each example to get full credit."
   ]
  },
  {
   "cell_type": "code",
   "execution_count": null,
   "id": "42de9a1f-421a-48a9-8d74-c80935693ce8",
   "metadata": {},
   "outputs": [],
   "source": []
  }
 ],
 "metadata": {
  "kernelspec": {
   "display_name": "Python [conda env:pyEAE]",
   "language": "python",
   "name": "conda-env-pyEAE-py"
  },
  "language_info": {
   "codemirror_mode": {
    "name": "ipython",
    "version": 3
   },
   "file_extension": ".py",
   "mimetype": "text/x-python",
   "name": "python",
   "nbconvert_exporter": "python",
   "pygments_lexer": "ipython3",
   "version": "3.9.13"
  }
 },
 "nbformat": 4,
 "nbformat_minor": 5
}
