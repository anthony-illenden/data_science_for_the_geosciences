{
 "cells": [
  {
   "cell_type": "markdown",
   "metadata": {},
   "source": [
    "## EAE 598 - Applied Pandas Example"
   ]
  },
  {
   "cell_type": "markdown",
   "metadata": {},
   "source": [
    "#### We had some frigid temperatures a couple of weeks ago, so we are going to analyze surface observations from the KDKB ASOS site using Pandas."
   ]
  },
  {
   "cell_type": "markdown",
   "metadata": {},
   "source": [
    "#### Import Pandas"
   ]
  },
  {
   "cell_type": "code",
   "execution_count": 1,
   "metadata": {},
   "outputs": [],
   "source": [
    "import pandas as pd"
   ]
  },
  {
   "cell_type": "markdown",
   "metadata": {},
   "source": [
    "#### Read in the KDKB ASOS data from Iowa State's IEM"
   ]
  },
  {
   "cell_type": "code",
   "execution_count": 2,
   "metadata": {},
   "outputs": [],
   "source": [
    "asos_url =  'https://mesonet.agron.iastate.edu/cgi-bin/request/asos.py?station=DKB&data=tmpf&data=sped&year1=2025&month1=1&day1=13&year2=2025&month2=1&day2=16&tz=Etc%2FUTC&format=onlycomma&latlon=no&elev=no&missing=M&trace=T&direct=no&report_type=3&report_type=4'\n",
    "\n",
    "df = pd.read_csv(asos_url)"
   ]
  },
  {
   "cell_type": "markdown",
   "metadata": {},
   "source": [
    "#### Let's investigate the dataframe"
   ]
  },
  {
   "cell_type": "code",
   "execution_count": 3,
   "metadata": {},
   "outputs": [
    {
     "data": {
      "text/html": [
       "<div>\n",
       "<style scoped>\n",
       "    .dataframe tbody tr th:only-of-type {\n",
       "        vertical-align: middle;\n",
       "    }\n",
       "\n",
       "    .dataframe tbody tr th {\n",
       "        vertical-align: top;\n",
       "    }\n",
       "\n",
       "    .dataframe thead th {\n",
       "        text-align: right;\n",
       "    }\n",
       "</style>\n",
       "<table border=\"1\" class=\"dataframe\">\n",
       "  <thead>\n",
       "    <tr style=\"text-align: right;\">\n",
       "      <th></th>\n",
       "      <th>station</th>\n",
       "      <th>valid</th>\n",
       "      <th>tmpf</th>\n",
       "      <th>sped</th>\n",
       "    </tr>\n",
       "  </thead>\n",
       "  <tbody>\n",
       "    <tr>\n",
       "      <th>0</th>\n",
       "      <td>DKB</td>\n",
       "      <td>2025-01-13 00:15</td>\n",
       "      <td>26.2</td>\n",
       "      <td>17.25</td>\n",
       "    </tr>\n",
       "    <tr>\n",
       "      <th>1</th>\n",
       "      <td>DKB</td>\n",
       "      <td>2025-01-13 00:35</td>\n",
       "      <td>26.0</td>\n",
       "      <td>16.10</td>\n",
       "    </tr>\n",
       "    <tr>\n",
       "      <th>2</th>\n",
       "      <td>DKB</td>\n",
       "      <td>2025-01-13 00:55</td>\n",
       "      <td>25.5</td>\n",
       "      <td>16.10</td>\n",
       "    </tr>\n",
       "    <tr>\n",
       "      <th>3</th>\n",
       "      <td>DKB</td>\n",
       "      <td>2025-01-13 01:15</td>\n",
       "      <td>25.5</td>\n",
       "      <td>13.80</td>\n",
       "    </tr>\n",
       "    <tr>\n",
       "      <th>4</th>\n",
       "      <td>DKB</td>\n",
       "      <td>2025-01-13 01:35</td>\n",
       "      <td>25.0</td>\n",
       "      <td>19.55</td>\n",
       "    </tr>\n",
       "    <tr>\n",
       "      <th>...</th>\n",
       "      <td>...</td>\n",
       "      <td>...</td>\n",
       "      <td>...</td>\n",
       "      <td>...</td>\n",
       "    </tr>\n",
       "    <tr>\n",
       "      <th>211</th>\n",
       "      <td>DKB</td>\n",
       "      <td>2025-01-15 22:35</td>\n",
       "      <td>17.0</td>\n",
       "      <td>13.80</td>\n",
       "    </tr>\n",
       "    <tr>\n",
       "      <th>212</th>\n",
       "      <td>DKB</td>\n",
       "      <td>2025-01-15 22:55</td>\n",
       "      <td>15.8</td>\n",
       "      <td>12.65</td>\n",
       "    </tr>\n",
       "    <tr>\n",
       "      <th>213</th>\n",
       "      <td>DKB</td>\n",
       "      <td>2025-01-15 23:15</td>\n",
       "      <td>16.0</td>\n",
       "      <td>12.65</td>\n",
       "    </tr>\n",
       "    <tr>\n",
       "      <th>214</th>\n",
       "      <td>DKB</td>\n",
       "      <td>2025-01-15 23:35</td>\n",
       "      <td>16.0</td>\n",
       "      <td>13.80</td>\n",
       "    </tr>\n",
       "    <tr>\n",
       "      <th>215</th>\n",
       "      <td>DKB</td>\n",
       "      <td>2025-01-15 23:55</td>\n",
       "      <td>16.0</td>\n",
       "      <td>13.80</td>\n",
       "    </tr>\n",
       "  </tbody>\n",
       "</table>\n",
       "<p>216 rows × 4 columns</p>\n",
       "</div>"
      ],
      "text/plain": [
       "    station             valid  tmpf   sped\n",
       "0       DKB  2025-01-13 00:15  26.2  17.25\n",
       "1       DKB  2025-01-13 00:35  26.0  16.10\n",
       "2       DKB  2025-01-13 00:55  25.5  16.10\n",
       "3       DKB  2025-01-13 01:15  25.5  13.80\n",
       "4       DKB  2025-01-13 01:35  25.0  19.55\n",
       "..      ...               ...   ...    ...\n",
       "211     DKB  2025-01-15 22:35  17.0  13.80\n",
       "212     DKB  2025-01-15 22:55  15.8  12.65\n",
       "213     DKB  2025-01-15 23:15  16.0  12.65\n",
       "214     DKB  2025-01-15 23:35  16.0  13.80\n",
       "215     DKB  2025-01-15 23:55  16.0  13.80\n",
       "\n",
       "[216 rows x 4 columns]"
      ]
     },
     "execution_count": 3,
     "metadata": {},
     "output_type": "execute_result"
    }
   ],
   "source": [
    "df"
   ]
  },
  {
   "cell_type": "markdown",
   "metadata": {},
   "source": [
    "#### The DataFrame contains an index and four columns:\n",
    "\n",
    "1. **Station ID**\n",
    "2. **Valid Time**\n",
    "3. **Temperature (°F)**\n",
    "4. **Wind Speed (mph)**"
   ]
  },
  {
   "cell_type": "markdown",
   "metadata": {},
   "source": [
    "#### Let's calculate the wind chill using the temperature and wind speed.\n",
    "\n",
    "#### The formula to calculate the wind chill can be seen below: \n",
    "\n",
    "$$\n",
    "\\text{Wind chill (ºF)} = 35.74 + 0.6215T - 35.75(V^{0.16}) + 0.4275T(V^{0.16})\n",
    "$$\n"
   ]
  },
  {
   "cell_type": "code",
   "execution_count": 4,
   "metadata": {},
   "outputs": [],
   "source": [
    "df['wind_chill'] = 35.74 + 0.6215*df['tmpf'] - 35.75*(df['sped']**0.16) + 0.4275*df['tmpf']*(df['sped']**0.16)"
   ]
  },
  {
   "cell_type": "markdown",
   "metadata": {},
   "source": [
    "#### Let's check out those calculated values"
   ]
  },
  {
   "cell_type": "code",
   "execution_count": 5,
   "metadata": {},
   "outputs": [
    {
     "data": {
      "text/plain": [
       "0      13.303874\n",
       "1      13.471272\n",
       "2      12.827097\n",
       "3      13.771413\n",
       "4      10.949390\n",
       "         ...    \n",
       "211     2.958529\n",
       "212     2.042085\n",
       "213     2.294707\n",
       "214     1.686424\n",
       "215     1.686424\n",
       "Name: wind_chill, Length: 216, dtype: float64"
      ]
     },
     "execution_count": 5,
     "metadata": {},
     "output_type": "execute_result"
    }
   ],
   "source": [
    "df['wind_chill']"
   ]
  },
  {
   "cell_type": "markdown",
   "metadata": {},
   "source": [
    "#### Well that just shows the first and last observations... let's use Pandas .describe() function to see some stats about the data"
   ]
  },
  {
   "cell_type": "code",
   "execution_count": 6,
   "metadata": {},
   "outputs": [
    {
     "data": {
      "text/plain": [
       "count    216.000000\n",
       "mean      -1.919035\n",
       "std        5.893005\n",
       "min      -14.714673\n",
       "25%       -6.721658\n",
       "50%       -1.994103\n",
       "75%        2.576897\n",
       "max       13.771413\n",
       "Name: wind_chill, dtype: float64"
      ]
     },
     "execution_count": 6,
     "metadata": {},
     "output_type": "execute_result"
    }
   ],
   "source": [
    "df['wind_chill'].describe()"
   ]
  },
  {
   "cell_type": "markdown",
   "metadata": {},
   "source": [
    "#### Pretty cold! "
   ]
  },
  {
   "cell_type": "markdown",
   "metadata": {},
   "source": [
    "#### Let's see when it was warmest"
   ]
  },
  {
   "cell_type": "code",
   "execution_count": 24,
   "metadata": {},
   "outputs": [
    {
     "data": {
      "text/plain": [
       "'2025-01-13 01:15'"
      ]
     },
     "execution_count": 24,
     "metadata": {},
     "output_type": "execute_result"
    }
   ],
   "source": [
    "df.loc[df['wind_chill'].idxmax()]['valid']"
   ]
  },
  {
   "cell_type": "markdown",
   "metadata": {},
   "source": [
    "#### Let's see when it was coldest"
   ]
  },
  {
   "cell_type": "code",
   "execution_count": 25,
   "metadata": {},
   "outputs": [
    {
     "data": {
      "text/plain": [
       "'2025-01-13 13:15'"
      ]
     },
     "execution_count": 25,
     "metadata": {},
     "output_type": "execute_result"
    }
   ],
   "source": [
    "df.loc[df['wind_chill'].idxmin()]['valid']"
   ]
  },
  {
   "cell_type": "markdown",
   "metadata": {},
   "source": [
    "#### Now let's plot the data using Matplotlib"
   ]
  },
  {
   "cell_type": "code",
   "execution_count": 7,
   "metadata": {},
   "outputs": [],
   "source": [
    "import matplotlib.pyplot as plt"
   ]
  },
  {
   "cell_type": "code",
   "execution_count": 8,
   "metadata": {},
   "outputs": [
    {
     "data": {
      "text/plain": [
       "[<matplotlib.lines.Line2D at 0x1cfe75e9640>]"
      ]
     },
     "execution_count": 8,
     "metadata": {},
     "output_type": "execute_result"
    },
    {
     "data": {
      "image/png": "[encoded data removed]",
      "text/plain": [
       "<Figure size 640x480 with 1 Axes>"
      ]
     },
     "metadata": {},
     "output_type": "display_data"
    }
   ],
   "source": [
    "plt.plot(df['wind_chill'])"
   ]
  },
  {
   "cell_type": "markdown",
   "metadata": {},
   "source": [
    "#### Let's improve that plot a bit"
   ]
  },
  {
   "cell_type": "markdown",
   "metadata": {},
   "source": [
    "#### First let's investigate the valid column"
   ]
  },
  {
   "cell_type": "code",
   "execution_count": 9,
   "metadata": {},
   "outputs": [
    {
     "data": {
      "text/plain": [
       "0      2025-01-13 00:15\n",
       "1      2025-01-13 00:35\n",
       "2      2025-01-13 00:55\n",
       "3      2025-01-13 01:15\n",
       "4      2025-01-13 01:35\n",
       "             ...       \n",
       "211    2025-01-15 22:35\n",
       "212    2025-01-15 22:55\n",
       "213    2025-01-15 23:15\n",
       "214    2025-01-15 23:35\n",
       "215    2025-01-15 23:55\n",
       "Name: valid, Length: 216, dtype: object"
      ]
     },
     "execution_count": 9,
     "metadata": {},
     "output_type": "execute_result"
    }
   ],
   "source": [
    "df['valid']"
   ]
  },
  {
   "cell_type": "markdown",
   "metadata": {},
   "source": [
    "#### It is an object datatype, so let's use Pandas .to_datetime() function to convert it into a time datatype"
   ]
  },
  {
   "cell_type": "code",
   "execution_count": 10,
   "metadata": {},
   "outputs": [],
   "source": [
    "df['time'] = pd.to_datetime(df['valid'])"
   ]
  },
  {
   "cell_type": "code",
   "execution_count": 11,
   "metadata": {},
   "outputs": [
    {
     "data": {
      "text/plain": [
       "0     2025-01-13 00:15:00\n",
       "1     2025-01-13 00:35:00\n",
       "2     2025-01-13 00:55:00\n",
       "3     2025-01-13 01:15:00\n",
       "4     2025-01-13 01:35:00\n",
       "              ...        \n",
       "211   2025-01-15 22:35:00\n",
       "212   2025-01-15 22:55:00\n",
       "213   2025-01-15 23:15:00\n",
       "214   2025-01-15 23:35:00\n",
       "215   2025-01-15 23:55:00\n",
       "Name: time, Length: 216, dtype: datetime64[ns]"
      ]
     },
     "execution_count": 11,
     "metadata": {},
     "output_type": "execute_result"
    }
   ],
   "source": [
    "df['time']"
   ]
  },
  {
   "cell_type": "markdown",
   "metadata": {},
   "source": [
    "#### Much better"
   ]
  },
  {
   "cell_type": "code",
   "execution_count": 12,
   "metadata": {},
   "outputs": [],
   "source": [
    "time = df['time'] # units: UTC (every 20 minutes)\n",
    "wind_chill = df['wind_chill'] # units: F\n",
    "site = df['station'][0] # station name"
   ]
  },
  {
   "cell_type": "code",
   "execution_count": 13,
   "metadata": {},
   "outputs": [
    {
     "data": {
      "text/plain": [
       "Text(0.5, 0, 'Time (UTC)')"
      ]
     },
     "execution_count": 13,
     "metadata": {},
     "output_type": "execute_result"
    },
    {
     "data": {
      "image/png": "[encoded data removed]",
      "text/plain": [
       "<Figure size 640x480 with 1 Axes>"
      ]
     },
     "metadata": {},
     "output_type": "display_data"
    }
   ],
   "source": [
    "fig = plt.figure()\n",
    "plt.plot(time, wind_chill, linewidth=2)\n",
    "plt.ylim(-15, 15)\n",
    "plt.xlim(time.iloc[0], time.iloc[-1])\n",
    "plt.grid()\n",
    "plt.title(f'{site} Observed Wind Chill from \\n {time.iloc[0]} to {time.iloc[-1]}')\n",
    "plt.ylabel('Wind Chill (F)')\n",
    "plt.xlabel('Time (UTC)')"
   ]
  }
 ],
 "metadata": {
  "kernelspec": {
   "display_name": "Python 3 (ipykernel)",
   "language": "python",
   "name": "python3"
  },
  "language_info": {
   "codemirror_mode": {
    "name": "ipython",
    "version": 3
   },
   "file_extension": ".py",
   "mimetype": "text/x-python",
   "name": "python",
   "nbconvert_exporter": "python",
   "pygments_lexer": "ipython3",
   "version": "3.9.12"
  }
 },
 "nbformat": 4,
 "nbformat_minor": 4
}
